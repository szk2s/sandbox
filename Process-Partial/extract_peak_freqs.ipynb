{
 "cells": [
  {
   "cell_type": "code",
   "execution_count": null,
   "metadata": {
    "scrolled": true
   },
   "outputs": [],
   "source": [
    "import sklearn.cluster as cl\n",
    "import numpy as np\n",
    "import json\n",
    "import matplotlib.pyplot as plt\n",
    "import plotly.offline as py\n",
    "import plotly.graph_objs as go\n",
    "from scipy.signal import hilbert\n",
    "py.init_notebook_mode(connected=True)"
   ]
  },
  {
   "cell_type": "code",
   "execution_count": null,
   "metadata": {},
   "outputs": [],
   "source": [
    "file = open(\"./assets/json/bird.json\", 'r')\n",
    "matlab_obj = json.load(file)\n",
    "soundname = matlab_obj.get('soundname')\n",
    "print('soundname:', soundname)"
   ]
  },
  {
   "cell_type": "code",
   "execution_count": null,
   "metadata": {},
   "outputs": [],
   "source": [
    "# # Mock Input\n",
    "# mat_times = np.array([0, 0.3, 0.6, 0.9])\n",
    "# mat_freqs = np.array([440, 880])\n",
    "# mat_amps = np.array([[1,2,3,4],[5,6,7,8]])\n",
    "\n"
   ]
  },
  {
   "cell_type": "code",
   "execution_count": null,
   "metadata": {},
   "outputs": [],
   "source": [
    "# Input\n",
    "mat_times = np.array(matlab_obj.get('times'))\n",
    "mat_freqs = np.array(matlab_obj.get('freqs'))\n",
    "mat_amps = np.array(matlab_obj.get('amps'))"
   ]
  },
  {
   "cell_type": "code",
   "execution_count": null,
   "metadata": {},
   "outputs": [],
   "source": [
    "# Make 2d Matrix\n",
    "\n",
    "amps_2d = mat_amps\n",
    "\n",
    "n_times = mat_amps.shape[1]\n",
    "n_freqs = mat_amps.shape[0]\n",
    "\n",
    "times_2d = np.empty(shape = (1, n_times))\n",
    "times_2d[0,:] = mat_times\n",
    "times_2d = np.repeat(times_2d, n_freqs, axis=0)\n",
    "\n",
    "freqs_2d = np.empty(shape = (n_freqs, 1))\n",
    "freqs_2d[:,0] = mat_freqs\n",
    "freqs_2d = np.repeat(freqs_2d, n_times, axis=1)\n",
    "\n",
    "# tmp = np.array(matlab_obj.get('freqs'))\n",
    "# mat_freqs = mat_freqs.T\n",
    "# mat_times = np.array(matlab_obj.get('times'))"
   ]
  },
  {
   "cell_type": "code",
   "execution_count": null,
   "metadata": {
    "scrolled": false
   },
   "outputs": [],
   "source": [
    "x = times_2d.flatten()\n",
    "y = freqs_2d.flatten()\n",
    "z = amps_2d.flatten()\n",
    "\n",
    "points = np.column_stack([x,y,z]);\n"
   ]
  },
  {
   "cell_type": "code",
   "execution_count": null,
   "metadata": {
    "scrolled": true
   },
   "outputs": [],
   "source": [
    "isSignal = z>0.04\n",
    "isSignal\n",
    "points = points[isSignal]\n",
    "x = points[:, 0]\n",
    "y = points[:, 1]\n",
    "z = points[:, 2]"
   ]
  },
  {
   "cell_type": "code",
   "execution_count": null,
   "metadata": {
    "scrolled": true
   },
   "outputs": [],
   "source": [
    "# Clustering\n",
    "n_clusters = 4\n",
    "\n",
    "# specimens = points\n",
    "# specimens = np.column_stack([x, np.log2(y), np.log2(z)])\n",
    "spX = x/x.max()\n",
    "spY = np.log2(y)/np.log2(y).max()\n",
    "spZ = z/z.max()\n",
    "# specimens = np.column_stack([spX*10, spY*10, spZ*10])\n",
    "specimens = np.column_stack([spX*10, spY*10])\n",
    "print(specimens)\n",
    "print([spX.min(), spY.min(), spZ.min()])\n",
    "print([spX.max(), spY.max(), spZ.max()])\n",
    "\n",
    "# clustering = cl.AgglomerativeClustering(n_clusters).fit(specimens)\n",
    "# print(clustering) \n",
    "\n",
    "clustering = cl.DBSCAN(min_samples=7).fit(specimens)\n",
    "labels = clustering.labels_\n",
    "\n",
    "\n",
    "print('<< labels >>')\n",
    "print(labels)\n",
    "print('length:', len(labels))\n",
    "print('types:', np.max(labels) + 1)"
   ]
  },
  {
   "cell_type": "code",
   "execution_count": null,
   "metadata": {
    "scrolled": false
   },
   "outputs": [],
   "source": [
    "## Plot\n",
    "\n",
    "trace = go.Scatter3d(\n",
    "    x = points[:,0],\n",
    "    y = points[:,1],\n",
    "    z = points[:,2],\n",
    "    mode = 'markers',\n",
    "    marker=dict(\n",
    "        size=2,\n",
    "        opacity=0.8,\n",
    "        color=labels\n",
    "    )\n",
    ")\n",
    "\n",
    "data = [trace]\n",
    "\n",
    "layout = go.Layout(\n",
    "    title= 'Partial Data',\n",
    "    hovermode= 'closest',\n",
    "    height=800,\n",
    "    margin=dict(\n",
    "            l=0,\n",
    "            r=0,\n",
    "            b=0,\n",
    "            t=0\n",
    "        ),\n",
    "    scene= dict(\n",
    "        xaxis= dict(\n",
    "            title= 'Time',\n",
    "            ticklen= 5,\n",
    "            gridwidth= 2,\n",
    "        ),\n",
    "        yaxis=dict(\n",
    "            title= 'Frequency',\n",
    "            type='log',\n",
    "            ticklen= 5,\n",
    "            gridwidth= 2,\n",
    "        ),\n",
    "        zaxis=dict(\n",
    "            title= 'Amplitude',\n",
    "            ticklen= 5,\n",
    "            gridwidth= 2,\n",
    "        )\n",
    "    )\n",
    ")\n",
    "fig = go.Figure(data, layout)\n",
    "py.iplot(fig, filename='partials')"
   ]
  },
  {
   "cell_type": "code",
   "execution_count": null,
   "metadata": {},
   "outputs": [],
   "source": []
  }
 ],
 "metadata": {
  "kernelspec": {
   "display_name": "Python 3",
   "language": "python",
   "name": "python3"
  },
  "language_info": {
   "codemirror_mode": {
    "name": "ipython",
    "version": 3
   },
   "file_extension": ".py",
   "mimetype": "text/x-python",
   "name": "python",
   "nbconvert_exporter": "python",
   "pygments_lexer": "ipython3",
   "version": "3.7.1"
  },
  "varInspector": {
   "cols": {
    "lenName": 16,
    "lenType": 16,
    "lenVar": 40
   },
   "kernels_config": {
    "python": {
     "delete_cmd_postfix": "",
     "delete_cmd_prefix": "del ",
     "library": "var_list.py",
     "varRefreshCmd": "print(var_dic_list())"
    },
    "r": {
     "delete_cmd_postfix": ") ",
     "delete_cmd_prefix": "rm(",
     "library": "var_list.r",
     "varRefreshCmd": "cat(var_dic_list()) "
    }
   },
   "oldHeight": 249,
   "position": {
    "height": "271px",
    "left": "1057px",
    "right": "20px",
    "top": "411px",
    "width": "585px"
   },
   "types_to_exclude": [
    "module",
    "function",
    "builtin_function_or_method",
    "instance",
    "_Feature"
   ],
   "varInspector_section_display": "block",
   "window_display": true
  }
 },
 "nbformat": 4,
 "nbformat_minor": 2
}
